{
  "nbformat": 4,
  "nbformat_minor": 0,
  "metadata": {
    "colab": {
      "name": "Untitled2.ipynb",
      "provenance": [],
      "private_outputs": true,
      "authorship_tag": "ABX9TyPwMiHzSdjUaz8vkLwSlXRl",
      "include_colab_link": true
    },
    "kernelspec": {
      "name": "python3",
      "display_name": "Python 3"
    },
    "language_info": {
      "name": "python"
    }
  },
  "cells": [
    {
      "cell_type": "markdown",
      "metadata": {
        "id": "view-in-github",
        "colab_type": "text"
      },
      "source": [
        "<a href=\"https://colab.research.google.com/github/hungkien05/notebook/blob/master/my_nmt.ipynb\" target=\"_parent\"><img src=\"https://colab.research.google.com/assets/colab-badge.svg\" alt=\"Open In Colab\"/></a>"
      ]
    },
    {
      "cell_type": "code",
      "execution_count": null,
      "metadata": {
        "id": "KvY0N78yh5un"
      },
      "outputs": [],
      "source": [
        "from google.colab import drive\n",
        "drive.mount('/content/drive')"
      ]
    },
    {
      "cell_type": "code",
      "source": [
        "from __future__ import unicode_literals, print_function, division\n",
        "from io import open\n",
        "import unicodedata\n",
        "import string\n",
        "import re\n",
        "import random\n",
        "\n",
        "import torch\n",
        "import torch.nn as nn\n",
        "from torch import optim\n",
        "import torch.nn.functional as F\n",
        "\n",
        "device = torch.device(\"cuda\" if torch.cuda.is_available() else \"cpu\")"
      ],
      "metadata": {
        "id": "mt5BXm3MvKKE"
      },
      "execution_count": null,
      "outputs": []
    },
    {
      "cell_type": "code",
      "source": [
        "def readLangs(lang1, lang2, reverse=False):\n",
        "    print(\"Reading lines...\")\n",
        "\n",
        "    # Read the file and split into lines\n",
        "    lines = open('/content/drive/MyDrive/Data/train.%s' % (lang1), encoding='utf-8').\\\n",
        "        read().strip().split('\\n')\n",
        "    # tien xu ly: https://analyticsindiamag.com/how-to-create-a-vocabulary-builder-for-nlp-tasks/\n",
        "    \n",
        "\n",
        "    return lines"
      ],
      "metadata": {
        "id": "8EwPljepvORi"
      },
      "execution_count": null,
      "outputs": []
    },
    {
      "cell_type": "code",
      "source": [
        "from torch.functional import Tensor\n",
        "class Vocab:\n",
        "  def __init__(self, lang, lines):\n",
        "    self.lang=lang\n",
        "    self.lines=lines\n",
        "    self.words = set()\n",
        "    #self.indices = []\n",
        "    self.dictionary = dict()\n",
        "    self.word_to_idx= dict()\n",
        "    self.indices = torch.LongTensor()\n",
        "\n",
        "  def add_sentence(self,sentence):\n",
        "    for word in sentence.split(' '):\n",
        "      self.words.add(word)\n",
        "\n",
        "  def build_vocab(self):\n",
        "    for sentence in lines:\n",
        "      self.add_sentence(sentence)\n",
        "    self.word_to_idx = {word: i for i,word in enumerate(self.words)}\n",
        "    self.indices = torch.LongTensor([self.word_to_idx[word] for word in self.words]) # create index tensor\n",
        "\n",
        "    \n"
      ],
      "metadata": {
        "id": "TDR2RTGNHjMC"
      },
      "execution_count": null,
      "outputs": []
    },
    {
      "cell_type": "code",
      "source": [
        "lines = readLangs(\"en\", \"vi\")\n",
        "eng_vocab = Vocab(\"en\", lines)\n",
        "eng_vocab.build_vocab()\n",
        "eng_vocab.words\n"
      ],
      "metadata": {
        "id": "YKCpYzChZA3h"
      },
      "execution_count": null,
      "outputs": []
    }
  ]
}